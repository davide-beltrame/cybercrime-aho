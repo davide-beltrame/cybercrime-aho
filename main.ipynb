{
 "cells": [
  {
   "cell_type": "code",
   "execution_count": 1,
   "metadata": {},
   "outputs": [],
   "source": [
    "import pandas as pd\n",
    "import numpy as np\n",
    "import matplotlib.pyplot as plt\n",
    "import seaborn as sns\n",
    "import os"
   ]
  },
  {
   "cell_type": "code",
   "execution_count": 10,
   "metadata": {},
   "outputs": [
    {
     "name": "stdout",
     "output_type": "stream",
     "text": [
      "                               product_title  \\\n",
      "0         10mg Diazepam Tabletten - 10 Stück   \n",
      "1         10mg Diazepam Tabletten - 50 Stück   \n",
      "2  Sonderpreis !!! 10x Diazepam Tropfen 25ml   \n",
      "3   Sonderpreis !!! 2x Diazepam Tropfen 25ml   \n",
      "4                        1 gr indian Ketamin   \n",
      "\n",
      "                                 product_description ship_from    ship_to  \\\n",
      "0  - 10mg Diazepam Tabletten - 10 Stück\\n\\n- Disk...   Germany  Worldwide   \n",
      "1  10 mg Diazepam / Valium / Valocordin Tabletten...   Germany  Worldwide   \n",
      "2  Diazepam / Valium / Valocordin Tropfen je Flas...   Germany  Worldwide   \n",
      "3  Diazepam / Valium / Valocordin Tropfen je Flas...   Germany  Worldwide   \n",
      "4  Very Strong Ketamin from India be careful\\n\\ni...   Austria  Worldwide   \n",
      "\n",
      "            seller    price source  \n",
      "0  1XAnOYMoUsX1BXx   $67.01   1776  \n",
      "1  1XAnOYMoUsX1BXx   $93.82   1776  \n",
      "2  1XAnOYMoUsX1BXx  $938.32   1776  \n",
      "3  1XAnOYMoUsX1BXx  $214.46   1776  \n",
      "4           ACAB23   $50.00   1776  \n"
     ]
    }
   ],
   "source": [
    "# Load the dataset\n",
    "df = pd.read_csv('drug_listings.csv')\n",
    "\n",
    "# Display the first 5 rows of the dataset\n",
    "print(df.head())"
   ]
  },
  {
   "cell_type": "code",
   "execution_count": 9,
   "metadata": {},
   "outputs": [
    {
     "name": "stdout",
     "output_type": "stream",
     "text": [
      "                           product_title  \\\n",
      "194428         ∎∎ W. Domino XTC ∎∎ 220MG   \n",
      "194429       ∎∎ White Domino XTC ► 220mg   \n",
      "194430       ∎∎ White Domino XTC ► 220mg   \n",
      "194431       ∎∎ Yellow Grenades ∎∎ 170MG   \n",
      "194432  ∎∎ Yellow Grenades ∎∎ 170MG MDMA   \n",
      "\n",
      "                                      product_description    ship_from  \\\n",
      "194428  White Domino XTC Pills from the Netherlands\\n\\...  Netherlands   \n",
      "194429  White Domino XTC Pills from the Netherlands\\n\\...  Netherlands   \n",
      "194430  White Domino XTC Pills from the Netherlands\\n\\...  Netherlands   \n",
      "194431  White Domino XTC Pills from the Netherlands\\n\\...       Europe   \n",
      "194432  White Domino XTC Pills from the Netherlands\\n\\...       Europe   \n",
      "\n",
      "       ship_to                      seller                   price  \\\n",
      "194428     NaN  ∎∎ Sensi ▬ XTC, MDMA & THC  USD 42.86\\nfor 5 Pills   \n",
      "194429     NaN  ∎∎ Sensi ▬ XTC, MDMA & THC  USD 42.48\\nfor 5 Pills   \n",
      "194430     NaN  ∎∎ Sensi ▬ XTC, MDMA & THC  USD 42.82\\nfor 5 Pills   \n",
      "194431     NaN  ∎∎ Sensi ▬ XTC, MDMA & THC  USD 30.08\\nfor 5 Pills   \n",
      "194432     NaN  ∎∎ Sensi ▬ XTC, MDMA & THC        USD 10.02\\nfor 1   \n",
      "\n",
      "                source  \n",
      "194428  themarketplace  \n",
      "194429  themarketplace  \n",
      "194430  themarketplace  \n",
      "194431  themarketplace  \n",
      "194432  themarketplace  \n"
     ]
    }
   ],
   "source": [
    "# Display the last 5 rows of the dataset\n",
    "print(df.tail())"
   ]
  },
  {
   "cell_type": "code",
   "execution_count": 3,
   "metadata": {},
   "outputs": [
    {
     "name": "stdout",
     "output_type": "stream",
     "text": [
      "(194433, 7)\n",
      "Index(['product_title', 'product_description', 'ship_from', 'ship_to',\n",
      "       'seller', 'price', 'source'],\n",
      "      dtype='object')\n",
      "product_title          object\n",
      "product_description    object\n",
      "ship_from              object\n",
      "ship_to                object\n",
      "seller                 object\n",
      "price                  object\n",
      "source                 object\n",
      "dtype: object\n"
     ]
    }
   ],
   "source": [
    "# Display the shape of the dataset\n",
    "print(df.shape)\n",
    "\n",
    "# Display the columns of the dataset\n",
    "print(df.columns)\n",
    "\n",
    "# Display the data types of the columns\n",
    "print(df.dtypes)"
   ]
  },
  {
   "cell_type": "code",
   "execution_count": 4,
   "metadata": {},
   "outputs": [
    {
     "name": "stdout",
     "output_type": "stream",
     "text": [
      "product_title               4\n",
      "product_description     13994\n",
      "ship_from              141204\n",
      "ship_to                130810\n",
      "seller                    130\n",
      "price                     486\n",
      "source                      0\n",
      "dtype: int64\n"
     ]
    }
   ],
   "source": [
    "# Display the number of missing values in each column\n",
    "print(df.isnull().sum())"
   ]
  },
  {
   "cell_type": "code",
   "execution_count": 5,
   "metadata": {},
   "outputs": [
    {
     "name": "stdout",
     "output_type": "stream",
     "text": [
      "product_title          133799\n",
      "product_description    129209\n",
      "ship_from                 184\n",
      "ship_to                   450\n",
      "seller                   6191\n",
      "price                  148991\n",
      "source                      8\n",
      "dtype: int64\n"
     ]
    }
   ],
   "source": [
    "# Display the number of unique values in each column\n",
    "print(df.nunique())"
   ]
  },
  {
   "cell_type": "code",
   "execution_count": 6,
   "metadata": {},
   "outputs": [
    {
     "name": "stdout",
     "output_type": "stream",
     "text": [
      "               product_title  \\\n",
      "count                 194429   \n",
      "unique                133799   \n",
      "top     50x  Grüne Herbalife   \n",
      "freq                     181   \n",
      "\n",
      "                                      product_description      ship_from  \\\n",
      "count                                              180439          53229   \n",
      "unique                                             129209            184   \n",
      "top     This shipment is with tracking number. The shi...  United States   \n",
      "freq                                                  241          11456   \n",
      "\n",
      "          ship_to  seller   price  source  \n",
      "count       63623  194303  193947  194433  \n",
      "unique        450    6191  148991       8  \n",
      "top     Worldwide   rc4me  50 USD   agora  \n",
      "freq        21273    1848     210  124842  \n"
     ]
    }
   ],
   "source": [
    "# Display the summary statistics of the dataset\n",
    "print(df.describe())"
   ]
  },
  {
   "cell_type": "code",
   "execution_count": 7,
   "metadata": {},
   "outputs": [
    {
     "name": "stdout",
     "output_type": "stream",
     "text": [
      "Empty DataFrame\n",
      "Columns: []\n",
      "Index: []\n"
     ]
    }
   ],
   "source": [
    "# Display the correlation matrix of the dataset\n",
    "print(df.corr())"
   ]
  },
  {
   "cell_type": "code",
   "execution_count": 8,
   "metadata": {},
   "outputs": [
    {
     "name": "stdout",
     "output_type": "stream",
     "text": [
      "50x  Grüne Herbalife                          181\n",
      "10x  Grüne Herbalife                          164\n",
      "25x  Grüne Herbalife                          159\n",
      "5x  Grüne Herbalife                           151\n",
      "100x  Grüne Herbalife                         150\n",
      "                                             ... \n",
      "Custom order for A****i                         1\n",
      "BUPRENORPHINE Patch -- 70ug/h -- 40mg --        1\n",
      "BUPRENORPHINE Patch -- 52,5ug/h -- 30mg --      1\n",
      "5 x 'Stars' 140mg MDMA                          1\n",
      "∎∎ Yellow Grenades ∎∎ 170MG MDMA                1\n",
      "Name: product_title, Length: 133799, dtype: int64\n"
     ]
    }
   ],
   "source": [
    "# Display the count of each unique value in the 'product_title' column\n",
    "print(df['product_title'].value_counts())"
   ]
  }
 ],
 "metadata": {
  "kernelspec": {
   "display_name": "Python 3",
   "language": "python",
   "name": "python3"
  },
  "language_info": {
   "codemirror_mode": {
    "name": "ipython",
    "version": 3
   },
   "file_extension": ".py",
   "mimetype": "text/x-python",
   "name": "python",
   "nbconvert_exporter": "python",
   "pygments_lexer": "ipython3",
   "version": "3.9.18"
  }
 },
 "nbformat": 4,
 "nbformat_minor": 2
}
